{
 "cells": [
  {
   "cell_type": "markdown",
   "metadata": {},
   "source": [
    "##### 第一模块(导入包模块：必须运行）"
   ]
  },
  {
   "cell_type": "code",
   "execution_count": 1,
   "metadata": {},
   "outputs": [],
   "source": [
    "### 引入所有包,如果缺少某个包，包的名字附于之后\n",
    "import numpy as np\n",
    "# numpy\n",
    "\n",
    "import pandas as pd\n",
    "# pandas\n",
    "\n",
    "import requests\n",
    "# requests\n",
    "\n",
    "from bs4 import BeautifulSoup\n",
    "# BeautifulSoup\n",
    "\n",
    "import re\n",
    "# re\n",
    "\n",
    "from fake_useragent import UserAgent\n",
    "# fake-useragent\n",
    "\n",
    "import json\n",
    "# json\n",
    "\n",
    "import time\n",
    "# time\n",
    "\n",
    "import random\n",
    "# random\n",
    "\n",
    "from selenium import webdriver\n",
    "from selenium.webdriver.common.keys import Keys\n",
    "# selenium\n",
    "\n",
    "from PIL import Image,ImageEnhance\n",
    "# PIL\n",
    "\n",
    "import hashlib\n",
    "# hashlib\n",
    "\n",
    "from collections import Counter\n",
    "# collections\n",
    "\n",
    "from gensim import corpora, models, similarities\n",
    "# gensim \n",
    "\n",
    "import codecs, sys\n",
    "# codecs\n",
    "\n",
    "import os\n",
    "# os\n",
    "\n",
    "import time\n",
    "#time\n",
    "\n",
    "import shutil\n",
    "# shutil\n",
    "\n",
    "import jieba\n",
    "# jieba\n",
    "\n",
    "from pyhanlp import *\n",
    "# pyhanlp，注意hanlp需要java的工具\n",
    "\n",
    "import jpype\n",
    "# jpype\n",
    "\n",
    "import tensorflow as tf\n",
    "# tensorflow\n",
    "\n",
    "import matplotlib.pyplot as plt\n",
    "# matplotlib\n",
    "\n",
    "from sklearn.cluster import KMeans\n",
    "from sklearn.decomposition import PCA\n",
    "from sklearn import feature_extraction  \n",
    "from sklearn.feature_extraction.text import TfidfTransformer  \n",
    "from sklearn.feature_extraction.text import CountVectorizer\n",
    "# sklearn\n",
    "\n",
    "from pdfminer.converter import PDFPageAggregator\n",
    "from pdfminer.layout import LAParams\n",
    "from pdfminer.pdfparser import PDFParser, PDFDocument\n",
    "from pdfminer.pdfdevice import PDFDevice\n",
    "from pdfminer.pdfinterp import PDFResourceManager, PDFPageInterpreter\n",
    "# pdfminer3k\n",
    "\n",
    "from tkinter import *\n",
    "from tkinter import filedialog\n",
    "# tk文件导入模块"
   ]
  },
  {
   "cell_type": "markdown",
   "metadata": {},
   "source": [
    "##### 第二模块：(文件处理模块：必须运行）"
   ]
  },
  {
   "cell_type": "code",
   "execution_count": 2,
   "metadata": {},
   "outputs": [],
   "source": [
    "def import_table(root):\n",
    "    \"\"\"\n",
    "    return table\"选中的表格\n",
    "    \"\"\"\n",
    "    try:\n",
    "        root.filename = filedialog.askopenfilename(filetypes=((\"xlsx\", \"*.xlsx\"),(\"xlsx\", \"*.xlsx\")))        \n",
    "        if \".xlsx\" in root.filename:\n",
    "            ### 该目录下有该文件\n",
    "            table = pd.read_excel(root.filename)\n",
    "            root.destroy()\n",
    "            return table\n",
    "    except Exception as e:\n",
    "        root.destroy()\n",
    "        print(\"导入错误\")\n",
    "\n",
    "def remote_select():\n",
    "    print(\"以下文件可以调用，需要分析哪个文件？\")\n",
    "    print(\"-------------------------------------\")\n",
    "    index = 0\n",
    "    list_item_temp = []\n",
    "    for item in os.listdir():\n",
    "        if \".xlsx\" in item:\n",
    "            index += 1\n",
    "            print(\"[\" + str(index) + \"] \" + item)\n",
    "            list_item_temp.append(item)\n",
    "    try:\n",
    "        bash_pos = \"/Users/dfuser/Desktop/目标文书目录/\"\n",
    "        file_code = int(input(\"需要导入哪个文件？(输入[]中的序号)\"))\n",
    "        final_pos = bash_pos + str(list_item_temp[file_code-1])\n",
    "        table_ = pd.read_excel(final_pos)\n",
    "        return table_\n",
    "        print(\"表格导入成功，以下是表格预览\")\n",
    "        print(\"----------------------------\")\n",
    "    except Exception as e:\n",
    "        print(\"导入错误\")\n",
    "\n",
    "def save_model(table):\n",
    "    print(\"-------------------------------------------\")\n",
    "    print(\"以下为表格的预览:\")\n",
    "    print(table.head())\n",
    "    flag = input(\"是否需要保存该表？(输入Y/N):\")\n",
    "    try:\n",
    "        if flag == \"Y\":\n",
    "            save_file_name = input(\"请输入该表格的名称(不用加.xlsx):\")\n",
    "            save_file_name_xlsx = save_file_name + \".xlsx\"\n",
    "            table.to_excel(save_file_name_xlsx)\n",
    "            print(\"存储完毕\")\n",
    "        else:\n",
    "            print(\"未能存储\")\n",
    "            pass\n",
    "    except Exception as e:\n",
    "        pass"
   ]
  },
  {
   "cell_type": "markdown",
   "metadata": {},
   "source": [
    "##### 第三模块：(程序主要功能核心：必须运行）"
   ]
  },
  {
   "cell_type": "code",
   "execution_count": 3,
   "metadata": {},
   "outputs": [
    {
     "name": "stderr",
     "output_type": "stream",
     "text": [
      "Building prefix dict from the default dictionary ...\n",
      "WARNING: Logging before flag parsing goes to stderr.\n",
      "I1107 15:13:37.806329 4554487232 __init__.py:111] Building prefix dict from the default dictionary ...\n",
      "Loading model from cache /var/folders/gj/d82ybwn16w54j4zq9x7z_ds80000gn/T/jieba.cache\n",
      "I1107 15:13:37.807456 4554487232 __init__.py:131] Loading model from cache /var/folders/gj/d82ybwn16w54j4zq9x7z_ds80000gn/T/jieba.cache\n",
      "Loading model cost 0.518 seconds.\n",
      "I1107 15:13:38.325726 4554487232 __init__.py:163] Loading model cost 0.518 seconds.\n",
      "Prefix dict has been built succesfully.\n",
      "I1107 15:13:38.326709 4554487232 __init__.py:164] Prefix dict has been built succesfully.\n",
      "W1107 15:13:38.521526 4554487232 base_any2vec.py:1386] under 10 jobs per worker: consider setting a smaller `batch_words' for smoother alpha decay\n"
     ]
    }
   ],
   "source": [
    "import os\n",
    "import pandas as pd\n",
    "import numpy as np\n",
    "from gensim.models.doc2vec import Doc2Vec, LabeledSentence\n",
    "from dataManager import Manager as DataManager\n",
    "import gensim\n",
    "\n",
    "table_test = pd.read_excel(\"正当防卫原表.xlsx\")\n",
    "sentence_test = table_test[\"法院意见\"].dropna()\n",
    "alldocs = []\n",
    "count = 0\n",
    "\n",
    "for sentence in sentence_test[0:10]:\n",
    "    seg_list = list(jieba.cut(str(sentence_test)))\n",
    "    alldocs.append(gensim.models.doc2vec.TaggedDocument(seg_list,[count]))\n",
    "    count += 1\n",
    "\n",
    "model = Doc2Vec(alldocs,vector_size=100, min_count=2, epochs=10)\n",
    "vector = model.infer_vector([\"system\", \"response\"])\n",
    "\n",
    "# 求解句子或者段落或者文章的相似性\n",
    "inferred_vector = model.infer_vector([\" \".join(seg_list)])\n",
    "sims = model.docvecs.most_similar([inferred_vector], topn=5)"
   ]
  },
  {
   "cell_type": "code",
   "execution_count": 4,
   "metadata": {},
   "outputs": [
    {
     "name": "stderr",
     "output_type": "stream",
     "text": [
      "W1107 15:13:40.775326 4554487232 base_any2vec.py:723] consider setting layer size to a multiple of 4 for greater performance\n",
      "W1107 15:13:40.782799 4554487232 base_any2vec.py:1386] under 10 jobs per worker: consider setting a smaller `batch_words' for smoother alpha decay\n"
     ]
    }
   ],
   "source": [
    "from gensim.test.utils import common_texts\n",
    "from gensim.models.doc2vec import Doc2Vec, TaggedDocument\n",
    "\n",
    "documents = [TaggedDocument(doc, [i]) for i, doc in enumerate(common_texts)]\n",
    "model = Doc2Vec(documents, vector_size=5, window=2, min_count=1, workers=4)"
   ]
  },
  {
   "cell_type": "code",
   "execution_count": 5,
   "metadata": {},
   "outputs": [
    {
     "data": {
      "text/plain": [
       "[(4, 0.6283330321311951),\n",
       " (2, 0.11325831711292267),\n",
       " (5, 0.03469408303499222),\n",
       " (1, 0.01893755793571472),\n",
       " (6, -0.023582786321640015),\n",
       " (8, -0.09939669072628021),\n",
       " (7, -0.44966521859169006)]"
      ]
     },
     "execution_count": 5,
     "metadata": {},
     "output_type": "execute_result"
    }
   ],
   "source": [
    "vector = model.infer_vector(['graph', 'minors', 'trees'])\n",
    "sims = model.docvecs.most_similar([vector], topn=7)\n",
    "sims"
   ]
  },
  {
   "cell_type": "code",
   "execution_count": 52,
   "metadata": {},
   "outputs": [
    {
     "name": "stderr",
     "output_type": "stream",
     "text": [
      "/Users/dfuser/anaconda3/lib/python3.7/site-packages/ipykernel_launcher.py:12: DeprecationWarning: Call to deprecated `similarity` (Method will be removed in 4.0.0, use self.wv.similarity() instead).\n",
      "  if sys.path[0] == '':\n",
      "/Users/dfuser/anaconda3/lib/python3.7/site-packages/ipykernel_launcher.py:13: DeprecationWarning: Call to deprecated `most_similar` (Method will be removed in 4.0.0, use self.wv.most_similar() instead).\n",
      "  del sys.path[0]\n"
     ]
    },
    {
     "data": {
      "text/plain": [
       "[('不', 0.971773624420166),\n",
       " ('防卫过当', 0.96738600730896),\n",
       " ('属于', 0.962291955947876)]"
      ]
     },
     "execution_count": 52,
     "metadata": {},
     "output_type": "execute_result"
    }
   ],
   "source": [
    "from gensim.models import word2vec\n",
    "import logging\n",
    "logging.basicConfig(format='%(asctime)s : %(levelname)s : %(message)s', level=logging.INFO)\n",
    "\n",
    "table_test = pd.read_excel(\"正当防卫原表.xlsx\")\n",
    "sentence_test = table_test[\"法院意见\"].dropna()\n",
    "seg_list = []\n",
    "for sentence in sentence_test:\n",
    "    seg_list.append(list(jieba.cut(str(sentence))))\n",
    "\n",
    "model = word2vec.Word2Vec(seg_list,size=100,min_count=1,window=5)\n",
    "model.similarity(\"正当防卫\",\"承担\")\n",
    "model.most_similar(\"正当防卫\")\n",
    "model.wv.similarity(\"正当防卫\",\"承担\")\n",
    "model.wv.distance(\"正当防卫\",\"承担\")\n",
    "model.wv.similar_by_word('正当防卫',topn=3)"
   ]
  },
  {
   "cell_type": "code",
   "execution_count": 58,
   "metadata": {},
   "outputs": [
    {
     "name": "stderr",
     "output_type": "stream",
     "text": [
      "/Users/dfuser/anaconda3/lib/python3.7/site-packages/ipykernel_launcher.py:2: DeprecationWarning: Call to deprecated `__contains__` (Method will be removed in 4.0.0, use self.wv.__contains__() instead).\n",
      "  \n",
      "/Users/dfuser/anaconda3/lib/python3.7/site-packages/ipykernel_launcher.py:2: DeprecationWarning: Call to deprecated `__getitem__` (Method will be removed in 4.0.0, use self.wv.__getitem__() instead).\n",
      "  \n"
     ]
    }
   ],
   "source": [
    "def getVector(cutWords,word2vec_model):\n",
    "    vector_list = [word2vec_model[k] for k in cutWords if k in word2vec_model]\n",
    "    vector_df = pd.DataFrame(vector_list)\n",
    "    cutWord_vector = vector_df.mean(axis = 0).values\n",
    "    return cutWord_vector\n",
    "\n",
    "vector_list = []\n",
    "for seg in seg_list[0:10]:\n",
    "    vector_list.append(getVector(seg,model))\n",
    "X = np.array(vector_list)"
   ]
  },
  {
   "cell_type": "code",
   "execution_count": 61,
   "metadata": {},
   "outputs": [
    {
     "data": {
      "text/plain": [
       "array([4, 3, 0, 4, 1, 0, 2, 2, 1, 1], dtype=int32)"
      ]
     },
     "execution_count": 61,
     "metadata": {},
     "output_type": "execute_result"
    }
   ],
   "source": [
    "from sklearn.cluster import KMeans\n",
    "from sklearn.decomposition import PCA\n",
    "import numpy as np\n",
    "\n",
    "# 但是在高维空间里边K-means似乎并不是很好,究其原因是因为维度太高,簇与簇之间的距离太小了\n",
    "\n",
    "kmeans = KMeans(n_clusters=5,random_state=0).fit(X)\n",
    "kmeans.labels_"
   ]
  },
  {
   "cell_type": "code",
   "execution_count": null,
   "metadata": {},
   "outputs": [],
   "source": []
  }
 ],
 "metadata": {
  "kernelspec": {
   "display_name": "Python 3",
   "language": "python",
   "name": "python3"
  },
  "language_info": {
   "codemirror_mode": {
    "name": "ipython",
    "version": 3
   },
   "file_extension": ".py",
   "mimetype": "text/x-python",
   "name": "python",
   "nbconvert_exporter": "python",
   "pygments_lexer": "ipython3",
   "version": "3.7.3"
  },
  "toc": {
   "base_numbering": 1,
   "nav_menu": {},
   "number_sections": true,
   "sideBar": true,
   "skip_h1_title": false,
   "title_cell": "Table of Contents",
   "title_sidebar": "Contents",
   "toc_cell": false,
   "toc_position": {
    "height": "calc(100% - 180px)",
    "left": "10px",
    "top": "150px",
    "width": "296.594px"
   },
   "toc_section_display": true,
   "toc_window_display": true
  }
 },
 "nbformat": 4,
 "nbformat_minor": 2
}
